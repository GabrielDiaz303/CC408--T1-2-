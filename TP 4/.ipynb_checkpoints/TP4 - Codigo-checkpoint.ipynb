{
 "cells": [
  {
   "cell_type": "markdown",
   "metadata": {},
   "source": [
    "### Parte I: Análisis de la base de hogares y tipo de ocupación"
   ]
  },
  {
   "cell_type": "markdown",
   "metadata": {},
   "source": [
    "#### 2-Eliminen todas las observaciones que no corresponden a los aglomerados de Ciudad Autónoma de Buenos Aires o Gran Buenos Aires y unan ambos trimestres en una sola base. Esto es, a la base de la encuesta individual de cada año (que usaron en el TP3) unan la base de la encuesta de hogar. Asegúrese de estar usando las variables CODUSU y NRO_Hogar para el merge"
   ]
  },
  {
   "cell_type": "code",
   "execution_count": 178,
   "metadata": {},
   "outputs": [],
   "source": [
    "import pandas as pd\n",
    "import numpy as np\n",
    "import matplotlib.pyplot as plt\n",
    "import seaborn as sns"
   ]
  },
  {
   "cell_type": "code",
   "execution_count": 180,
   "metadata": {},
   "outputs": [
    {
     "name": "stderr",
     "output_type": "stream",
     "text": [
      "C:\\Users\\gabib\\AppData\\Local\\Temp\\ipykernel_19556\\3308375638.py:4: DtypeWarning: Columns (2,15,22,23,24,25,26,27,28,29,30,31,32,34,35,36,37) have mixed types. Specify dtype option on import or set low_memory=False.\n",
      "  EPH_completo_I = pd.read_csv('respondieron_limpio.csv')\n"
     ]
    }
   ],
   "source": [
    "EPH2024H = pd.read_excel('usu_hogar_T124.xlsx')\n",
    "EPH2004H = pd.read_stata(\"Hogar_t104.dta\")\n",
    "\n",
    "EPH_completo_I = pd.read_csv('respondieron_limpio.csv')"
   ]
  },
  {
   "cell_type": "code",
   "execution_count": 181,
   "metadata": {},
   "outputs": [],
   "source": [
    "EPH2004H.columns = EPH2004H.columns.str.lower()\n",
    "EPH2024H.columns = EPH2024H.columns.str.lower()\n",
    "\n",
    "EPH2024BSH=EPH2024H[(EPH2024H[\"aglomerado\"] == 32) | (EPH2024H[\"aglomerado\"] == 33)]\n",
    "EPH2004BSH=EPH2004H[(EPH2004H[\"aglomerado\"] == \"Ciudad de Buenos Aires\") | (EPH2004H[\"aglomerado\"] == \"Partidos del GBA\")]"
   ]
  },
  {
   "cell_type": "code",
   "execution_count": 182,
   "metadata": {},
   "outputs": [
    {
     "data": {
      "text/html": [
       "<div>\n",
       "<style scoped>\n",
       "    .dataframe tbody tr th:only-of-type {\n",
       "        vertical-align: middle;\n",
       "    }\n",
       "\n",
       "    .dataframe tbody tr th {\n",
       "        vertical-align: top;\n",
       "    }\n",
       "\n",
       "    .dataframe thead th {\n",
       "        text-align: right;\n",
       "    }\n",
       "</style>\n",
       "<table border=\"1\" class=\"dataframe\">\n",
       "  <thead>\n",
       "    <tr style=\"text-align: right;\">\n",
       "      <th></th>\n",
       "      <th>codusu</th>\n",
       "      <th>nro_hogar</th>\n",
       "      <th>realizada</th>\n",
       "      <th>ano4</th>\n",
       "      <th>trimestre</th>\n",
       "      <th>region</th>\n",
       "      <th>mas_500</th>\n",
       "      <th>aglomerado</th>\n",
       "      <th>pondera</th>\n",
       "      <th>iv1</th>\n",
       "      <th>...</th>\n",
       "      <th>pdeccfr</th>\n",
       "      <th>adeccfr</th>\n",
       "      <th>vii1_1</th>\n",
       "      <th>vii1_2</th>\n",
       "      <th>vii2_1</th>\n",
       "      <th>vii2_2</th>\n",
       "      <th>vii2_3</th>\n",
       "      <th>vii2_4</th>\n",
       "      <th>idimph</th>\n",
       "      <th>pondih</th>\n",
       "    </tr>\n",
       "  </thead>\n",
       "  <tbody>\n",
       "    <tr>\n",
       "      <th>0</th>\n",
       "      <td>125098</td>\n",
       "      <td>1.0</td>\n",
       "      <td>Sí</td>\n",
       "      <td>2004.0</td>\n",
       "      <td>1er. Trimestre</td>\n",
       "      <td>Gran Buenos Aires</td>\n",
       "      <td>S</td>\n",
       "      <td>Ciudad de Buenos Aires</td>\n",
       "      <td>1299.0</td>\n",
       "      <td>Departamento</td>\n",
       "      <td>...</td>\n",
       "      <td></td>\n",
       "      <td>04</td>\n",
       "      <td>1.0</td>\n",
       "      <td>0.0</td>\n",
       "      <td>98.0</td>\n",
       "      <td>0.0</td>\n",
       "      <td>0.0</td>\n",
       "      <td>0.0</td>\n",
       "      <td>00000</td>\n",
       "      <td>NaN</td>\n",
       "    </tr>\n",
       "    <tr>\n",
       "      <th>1</th>\n",
       "      <td>125397</td>\n",
       "      <td>1.0</td>\n",
       "      <td>Sí</td>\n",
       "      <td>2004.0</td>\n",
       "      <td>1er. Trimestre</td>\n",
       "      <td>Gran Buenos Aires</td>\n",
       "      <td>S</td>\n",
       "      <td>Ciudad de Buenos Aires</td>\n",
       "      <td>2018.0</td>\n",
       "      <td>Departamento</td>\n",
       "      <td>...</td>\n",
       "      <td></td>\n",
       "      <td>00</td>\n",
       "      <td>1.0</td>\n",
       "      <td>0.0</td>\n",
       "      <td>98.0</td>\n",
       "      <td>0.0</td>\n",
       "      <td>0.0</td>\n",
       "      <td>0.0</td>\n",
       "      <td>00000</td>\n",
       "      <td>NaN</td>\n",
       "    </tr>\n",
       "    <tr>\n",
       "      <th>2</th>\n",
       "      <td>125515</td>\n",
       "      <td>1.0</td>\n",
       "      <td>Sí</td>\n",
       "      <td>2004.0</td>\n",
       "      <td>1er. Trimestre</td>\n",
       "      <td>Gran Buenos Aires</td>\n",
       "      <td>S</td>\n",
       "      <td>Ciudad de Buenos Aires</td>\n",
       "      <td>1486.0</td>\n",
       "      <td>Departamento</td>\n",
       "      <td>...</td>\n",
       "      <td></td>\n",
       "      <td>05</td>\n",
       "      <td>1.0</td>\n",
       "      <td>0.0</td>\n",
       "      <td>98.0</td>\n",
       "      <td>0.0</td>\n",
       "      <td>0.0</td>\n",
       "      <td>0.0</td>\n",
       "      <td>00010</td>\n",
       "      <td>NaN</td>\n",
       "    </tr>\n",
       "    <tr>\n",
       "      <th>3</th>\n",
       "      <td>125558</td>\n",
       "      <td>1.0</td>\n",
       "      <td>Sí</td>\n",
       "      <td>2004.0</td>\n",
       "      <td>1er. Trimestre</td>\n",
       "      <td>Gran Buenos Aires</td>\n",
       "      <td>S</td>\n",
       "      <td>Ciudad de Buenos Aires</td>\n",
       "      <td>1674.0</td>\n",
       "      <td>Departamento</td>\n",
       "      <td>...</td>\n",
       "      <td></td>\n",
       "      <td>06</td>\n",
       "      <td>2.0</td>\n",
       "      <td>0.0</td>\n",
       "      <td>3.0</td>\n",
       "      <td>4.0</td>\n",
       "      <td>0.0</td>\n",
       "      <td>0.0</td>\n",
       "      <td>00000</td>\n",
       "      <td>NaN</td>\n",
       "    </tr>\n",
       "    <tr>\n",
       "      <th>4</th>\n",
       "      <td>125599</td>\n",
       "      <td>1.0</td>\n",
       "      <td>Sí</td>\n",
       "      <td>2004.0</td>\n",
       "      <td>1er. Trimestre</td>\n",
       "      <td>Gran Buenos Aires</td>\n",
       "      <td>S</td>\n",
       "      <td>Ciudad de Buenos Aires</td>\n",
       "      <td>1471.0</td>\n",
       "      <td>Casa</td>\n",
       "      <td>...</td>\n",
       "      <td></td>\n",
       "      <td>02</td>\n",
       "      <td>2.0</td>\n",
       "      <td>0.0</td>\n",
       "      <td>1.0</td>\n",
       "      <td>0.0</td>\n",
       "      <td>0.0</td>\n",
       "      <td>0.0</td>\n",
       "      <td>00000</td>\n",
       "      <td>NaN</td>\n",
       "    </tr>\n",
       "    <tr>\n",
       "      <th>...</th>\n",
       "      <td>...</td>\n",
       "      <td>...</td>\n",
       "      <td>...</td>\n",
       "      <td>...</td>\n",
       "      <td>...</td>\n",
       "      <td>...</td>\n",
       "      <td>...</td>\n",
       "      <td>...</td>\n",
       "      <td>...</td>\n",
       "      <td>...</td>\n",
       "      <td>...</td>\n",
       "      <td>...</td>\n",
       "      <td>...</td>\n",
       "      <td>...</td>\n",
       "      <td>...</td>\n",
       "      <td>...</td>\n",
       "      <td>...</td>\n",
       "      <td>...</td>\n",
       "      <td>...</td>\n",
       "      <td>...</td>\n",
       "      <td>...</td>\n",
       "    </tr>\n",
       "    <tr>\n",
       "      <th>4891</th>\n",
       "      <td>TQRMNOPSSHKMROCDEIJAH00861731</td>\n",
       "      <td>1.0</td>\n",
       "      <td>1</td>\n",
       "      <td>2024.0</td>\n",
       "      <td>1</td>\n",
       "      <td>1</td>\n",
       "      <td>S</td>\n",
       "      <td>33</td>\n",
       "      <td>3772.0</td>\n",
       "      <td>1</td>\n",
       "      <td>...</td>\n",
       "      <td>NaN</td>\n",
       "      <td>10</td>\n",
       "      <td>1</td>\n",
       "      <td>0</td>\n",
       "      <td>96</td>\n",
       "      <td>0</td>\n",
       "      <td>0</td>\n",
       "      <td>0</td>\n",
       "      <td>NaN</td>\n",
       "      <td>5211.0</td>\n",
       "    </tr>\n",
       "    <tr>\n",
       "      <th>4892</th>\n",
       "      <td>TQRMNOPWVHJLSSCDEIJAH00794914</td>\n",
       "      <td>1.0</td>\n",
       "      <td>1</td>\n",
       "      <td>2024.0</td>\n",
       "      <td>1</td>\n",
       "      <td>1</td>\n",
       "      <td>S</td>\n",
       "      <td>33</td>\n",
       "      <td>1862.0</td>\n",
       "      <td>1</td>\n",
       "      <td>...</td>\n",
       "      <td>NaN</td>\n",
       "      <td>2</td>\n",
       "      <td>4</td>\n",
       "      <td>2</td>\n",
       "      <td>98</td>\n",
       "      <td>0</td>\n",
       "      <td>0</td>\n",
       "      <td>0</td>\n",
       "      <td>NaN</td>\n",
       "      <td>4520.0</td>\n",
       "    </tr>\n",
       "    <tr>\n",
       "      <th>4893</th>\n",
       "      <td>TQRMNOQQWHKMOQCDEIJAH00861732</td>\n",
       "      <td>1.0</td>\n",
       "      <td>1</td>\n",
       "      <td>2024.0</td>\n",
       "      <td>1</td>\n",
       "      <td>1</td>\n",
       "      <td>S</td>\n",
       "      <td>33</td>\n",
       "      <td>2639.0</td>\n",
       "      <td>1</td>\n",
       "      <td>...</td>\n",
       "      <td>NaN</td>\n",
       "      <td>12</td>\n",
       "      <td>2</td>\n",
       "      <td>0</td>\n",
       "      <td>98</td>\n",
       "      <td>0</td>\n",
       "      <td>0</td>\n",
       "      <td>0</td>\n",
       "      <td>NaN</td>\n",
       "      <td>0.0</td>\n",
       "    </tr>\n",
       "    <tr>\n",
       "      <th>4894</th>\n",
       "      <td>TQRMNOSXRHKMNMCDEIJAH00861733</td>\n",
       "      <td>1.0</td>\n",
       "      <td>1</td>\n",
       "      <td>2024.0</td>\n",
       "      <td>1</td>\n",
       "      <td>1</td>\n",
       "      <td>S</td>\n",
       "      <td>33</td>\n",
       "      <td>1497.0</td>\n",
       "      <td>2</td>\n",
       "      <td>...</td>\n",
       "      <td>NaN</td>\n",
       "      <td>10</td>\n",
       "      <td>1</td>\n",
       "      <td>0</td>\n",
       "      <td>98</td>\n",
       "      <td>0</td>\n",
       "      <td>0</td>\n",
       "      <td>0</td>\n",
       "      <td>NaN</td>\n",
       "      <td>2000.0</td>\n",
       "    </tr>\n",
       "    <tr>\n",
       "      <th>4895</th>\n",
       "      <td>TQRMNORRQHMORPCDEIJAH00802469</td>\n",
       "      <td>1.0</td>\n",
       "      <td>1</td>\n",
       "      <td>2024.0</td>\n",
       "      <td>1</td>\n",
       "      <td>1</td>\n",
       "      <td>S</td>\n",
       "      <td>33</td>\n",
       "      <td>3120.0</td>\n",
       "      <td>1</td>\n",
       "      <td>...</td>\n",
       "      <td>NaN</td>\n",
       "      <td>6</td>\n",
       "      <td>2</td>\n",
       "      <td>1</td>\n",
       "      <td>3</td>\n",
       "      <td>0</td>\n",
       "      <td>0</td>\n",
       "      <td>0</td>\n",
       "      <td>NaN</td>\n",
       "      <td>6154.0</td>\n",
       "    </tr>\n",
       "  </tbody>\n",
       "</table>\n",
       "<p>4896 rows × 89 columns</p>\n",
       "</div>"
      ],
      "text/plain": [
       "                             codusu  nro_hogar realizada    ano4  \\\n",
       "0                          125098          1.0        Sí  2004.0   \n",
       "1                          125397          1.0        Sí  2004.0   \n",
       "2                          125515          1.0        Sí  2004.0   \n",
       "3                          125558          1.0        Sí  2004.0   \n",
       "4                          125599          1.0        Sí  2004.0   \n",
       "...                             ...        ...       ...     ...   \n",
       "4891  TQRMNOPSSHKMROCDEIJAH00861731        1.0         1  2024.0   \n",
       "4892  TQRMNOPWVHJLSSCDEIJAH00794914        1.0         1  2024.0   \n",
       "4893  TQRMNOQQWHKMOQCDEIJAH00861732        1.0         1  2024.0   \n",
       "4894  TQRMNOSXRHKMNMCDEIJAH00861733        1.0         1  2024.0   \n",
       "4895  TQRMNORRQHMORPCDEIJAH00802469        1.0         1  2024.0   \n",
       "\n",
       "           trimestre             region mas_500              aglomerado  \\\n",
       "0     1er. Trimestre  Gran Buenos Aires       S  Ciudad de Buenos Aires   \n",
       "1     1er. Trimestre  Gran Buenos Aires       S  Ciudad de Buenos Aires   \n",
       "2     1er. Trimestre  Gran Buenos Aires       S  Ciudad de Buenos Aires   \n",
       "3     1er. Trimestre  Gran Buenos Aires       S  Ciudad de Buenos Aires   \n",
       "4     1er. Trimestre  Gran Buenos Aires       S  Ciudad de Buenos Aires   \n",
       "...              ...                ...     ...                     ...   \n",
       "4891               1                  1       S                      33   \n",
       "4892               1                  1       S                      33   \n",
       "4893               1                  1       S                      33   \n",
       "4894               1                  1       S                      33   \n",
       "4895               1                  1       S                      33   \n",
       "\n",
       "      pondera           iv1  ... pdeccfr adeccfr vii1_1 vii1_2 vii2_1 vii2_2  \\\n",
       "0      1299.0  Departamento  ...              04    1.0    0.0   98.0    0.0   \n",
       "1      2018.0  Departamento  ...              00    1.0    0.0   98.0    0.0   \n",
       "2      1486.0  Departamento  ...              05    1.0    0.0   98.0    0.0   \n",
       "3      1674.0  Departamento  ...              06    2.0    0.0    3.0    4.0   \n",
       "4      1471.0          Casa  ...              02    2.0    0.0    1.0    0.0   \n",
       "...       ...           ...  ...     ...     ...    ...    ...    ...    ...   \n",
       "4891   3772.0             1  ...     NaN      10      1      0     96      0   \n",
       "4892   1862.0             1  ...     NaN       2      4      2     98      0   \n",
       "4893   2639.0             1  ...     NaN      12      2      0     98      0   \n",
       "4894   1497.0             2  ...     NaN      10      1      0     98      0   \n",
       "4895   3120.0             1  ...     NaN       6      2      1      3      0   \n",
       "\n",
       "     vii2_3 vii2_4 idimph  pondih  \n",
       "0       0.0    0.0  00000     NaN  \n",
       "1       0.0    0.0  00000     NaN  \n",
       "2       0.0    0.0  00010     NaN  \n",
       "3       0.0    0.0  00000     NaN  \n",
       "4       0.0    0.0  00000     NaN  \n",
       "...     ...    ...    ...     ...  \n",
       "4891      0      0    NaN  5211.0  \n",
       "4892      0      0    NaN  4520.0  \n",
       "4893      0      0    NaN     0.0  \n",
       "4894      0      0    NaN  2000.0  \n",
       "4895      0      0    NaN  6154.0  \n",
       "\n",
       "[4896 rows x 89 columns]"
      ]
     },
     "execution_count": 182,
     "metadata": {},
     "output_type": "execute_result"
    }
   ],
   "source": [
    "EPH_completo_H= pd.concat([EPH2004BSH, EPH2024BSH], ignore_index=True)\n",
    "EPH_completo_H"
   ]
  },
  {
   "cell_type": "code",
   "execution_count": 183,
   "metadata": {},
   "outputs": [
    {
     "name": "stdout",
     "output_type": "stream",
     "text": [
      "Columnas comunes en ambos DataFrames:\n",
      "{'itf', 'pondera', 'decifr', 'gdecifr', 'adeccfr', 'ipcf', 'gdeccfr', 'deccfr', 'rdeccfr', 'nro_hogar', 'ano4', 'codusu', 'adecifr', 'aglomerado', 'rdecifr'}\n"
     ]
    }
   ],
   "source": [
    "# Suponiendo que tienes dos DataFrames: EPH_completo_I y EPH_completo_H\n",
    "\n",
    "# Obtener los nombres de las columnas de ambos DataFrames\n",
    "columnas_I = set(EPH_completo_I.columns)\n",
    "columnas_H = set(EPH_completo_H.columns)\n",
    "columnas_merge = set([\"codusu\", \"nro_hogar\"]) #mergeamos las dos columnas \n",
    "\n",
    "# Encontrar las columnas que comparten\n",
    "columnas_comunes = columnas_I.intersection(columnas_H)\n",
    "\n",
    "# Mostrar las columnas que comparten\n",
    "print(\"Columnas comunes en ambos DataFrames:\")\n",
    "print(columnas_comunes)\n",
    "\n",
    "columnas_interes = columnas_comunes - columnas_merge\n",
    "columnas_interes = sorted(list(columnas_interes))"
   ]
  },
  {
   "cell_type": "code",
   "execution_count": 184,
   "metadata": {},
   "outputs": [],
   "source": [
    "EPH_completo = pd.merge(EPH_completo_I, EPH_completo_H, on=[\"codusu\", \"nro_hogar\"], suffixes=('_I', '_H'))\n"
   ]
  },
  {
   "cell_type": "markdown",
   "metadata": {},
   "source": [
    "#### 3-Limpien la base de datos tomando criterios que hagan sentido. Explicar cualquier decisión como el tratamiento de valores faltantes (missing values), extremos (outliers), o variables categóricas. Justifique sus decisiones"
   ]
  },
  {
   "cell_type": "code",
   "execution_count": 186,
   "metadata": {},
   "outputs": [
    {
     "name": "stdout",
     "output_type": "stream",
     "text": [
      "cantidad de nan en la resta de adeccfr: 0\n",
      "cantidad de nan en la resta de adecifr: 0\n",
      "cantidad de nan en la resta de aglomerado: 0\n",
      "cantidad de nan en la resta de ano4: 0\n",
      "cantidad de nan en la resta de deccfr: 0\n",
      "cantidad de nan en la resta de decifr: 0\n",
      "cantidad de nan en la resta de gdeccfr: 0\n",
      "cantidad de nan en la resta de gdecifr: 0\n",
      "cantidad de nan en la resta de ipcf: 0\n",
      "cantidad de nan en la resta de itf: 0\n",
      "cantidad de nan en la resta de pondera: 0\n",
      "cantidad de nan en la resta de rdeccfr: 0\n",
      "cantidad de nan en la resta de rdecifr: 0\n"
     ]
    }
   ],
   "source": [
    "#revisamos si los valores duplicados tienen sentido:\n",
    "\n",
    "for i in columnas_interes: #resto a ver si es el mismo valor\n",
    "    valor_i = i + \"_I\"\n",
    "    valor_h = i + \"_I\"\n",
    "    resta = EPH_completo[valor_i] - EPH_completo[valor_h]\n",
    "\n",
    "    for x in resta:\n",
    "        if x != 0: \n",
    "            print(\"Existe una diferencia entre \" + valor_i + \" y \" + valor_h + \": \" + x)\n",
    "    \n",
    "    nan_check = resta.isna().sum()\n",
    "\n",
    "    print(\"cantidad de nan en la resta de \"+ i + \": \" + str(nan_check))"
   ]
  },
  {
   "cell_type": "code",
   "execution_count": 187,
   "metadata": {},
   "outputs": [
    {
     "name": "stdout",
     "output_type": "stream",
     "text": [
      "<class 'pandas.core.frame.DataFrame'>\n",
      "RangeIndex: 4896 entries, 0 to 4895\n",
      "Data columns (total 89 columns):\n",
      " #   Column      Non-Null Count  Dtype  \n",
      "---  ------      --------------  -----  \n",
      " 0   codusu      4896 non-null   object \n",
      " 1   nro_hogar   4896 non-null   float64\n",
      " 2   realizada   4896 non-null   object \n",
      " 3   ano4        4896 non-null   float64\n",
      " 4   trimestre   4896 non-null   object \n",
      " 5   region      4896 non-null   object \n",
      " 6   mas_500     4896 non-null   object \n",
      " 7   aglomerado  4896 non-null   object \n",
      " 8   pondera     4896 non-null   float64\n",
      " 9   iv1         4896 non-null   object \n",
      " 10  iv1_esp     2355 non-null   object \n",
      " 11  iv2         4896 non-null   object \n",
      " 12  iv3         4896 non-null   object \n",
      " 13  iv3_esp     2353 non-null   object \n",
      " 14  iv4         4896 non-null   object \n",
      " 15  iv5         4896 non-null   object \n",
      " 16  iv6         4896 non-null   object \n",
      " 17  iv7         4896 non-null   object \n",
      " 18  iv7_esp     2356 non-null   object \n",
      " 19  iv8         4896 non-null   object \n",
      " 20  iv9         4896 non-null   object \n",
      " 21  iv10        4896 non-null   object \n",
      " 22  iv11        4896 non-null   object \n",
      " 23  iv12_1      4896 non-null   object \n",
      " 24  iv12_2      4896 non-null   object \n",
      " 25  iv12_3      4896 non-null   object \n",
      " 26  ii1         4896 non-null   object \n",
      " 27  ii2         4896 non-null   object \n",
      " 28  ii3         4896 non-null   object \n",
      " 29  ii3_1       4896 non-null   float64\n",
      " 30  ii4_1       4896 non-null   object \n",
      " 31  ii4_2       4896 non-null   object \n",
      " 32  ii4_3       4896 non-null   object \n",
      " 33  ii5         4896 non-null   object \n",
      " 34  ii5_1       4896 non-null   float64\n",
      " 35  ii6         4896 non-null   object \n",
      " 36  ii6_1       4896 non-null   float64\n",
      " 37  ii7         4896 non-null   object \n",
      " 38  ii7_esp     2358 non-null   object \n",
      " 39  ii8         4896 non-null   object \n",
      " 40  ii8_esp     2448 non-null   object \n",
      " 41  ii9         4896 non-null   object \n",
      " 42  v1          4896 non-null   object \n",
      " 43  v2          4896 non-null   object \n",
      " 44  v21         4896 non-null   object \n",
      " 45  v22         4896 non-null   object \n",
      " 46  v3          4896 non-null   object \n",
      " 47  v4          4896 non-null   object \n",
      " 48  v5          4896 non-null   object \n",
      " 49  v6          4896 non-null   object \n",
      " 50  v7          4896 non-null   object \n",
      " 51  v8          4896 non-null   object \n",
      " 52  v9          4896 non-null   object \n",
      " 53  v10         4896 non-null   object \n",
      " 54  v11         4896 non-null   object \n",
      " 55  v12         4896 non-null   object \n",
      " 56  v13         4896 non-null   object \n",
      " 57  v14         4896 non-null   object \n",
      " 58  v15         4896 non-null   object \n",
      " 59  v16         4896 non-null   object \n",
      " 60  v17         4896 non-null   object \n",
      " 61  v18         4896 non-null   object \n",
      " 62  v19_a       4896 non-null   object \n",
      " 63  v19_b       4896 non-null   object \n",
      " 64  ix_tot      4896 non-null   float64\n",
      " 65  ix_men10    3320 non-null   float64\n",
      " 66  ix_mayeq10  4896 non-null   float64\n",
      " 67  itf         4896 non-null   float64\n",
      " 68  decifr      4896 non-null   object \n",
      " 69  idecifr     2351 non-null   object \n",
      " 70  rdecifr     4896 non-null   object \n",
      " 71  gdecifr     4896 non-null   object \n",
      " 72  pdecifr     2351 non-null   object \n",
      " 73  adecifr     4896 non-null   object \n",
      " 74  ipcf        4896 non-null   float64\n",
      " 75  deccfr      4896 non-null   object \n",
      " 76  ideccfr     2351 non-null   object \n",
      " 77  rdeccfr     4896 non-null   object \n",
      " 78  gdeccfr     4896 non-null   object \n",
      " 79  pdeccfr     2351 non-null   object \n",
      " 80  adeccfr     4896 non-null   object \n",
      " 81  vii1_1      4896 non-null   object \n",
      " 82  vii1_2      4896 non-null   object \n",
      " 83  vii2_1      4896 non-null   object \n",
      " 84  vii2_2      4896 non-null   object \n",
      " 85  vii2_3      4896 non-null   object \n",
      " 86  vii2_4      4896 non-null   object \n",
      " 87  idimph      2351 non-null   object \n",
      " 88  pondih      2545 non-null   float64\n",
      "dtypes: float64(12), object(77)\n",
      "memory usage: 3.3+ MB\n",
      "None\n",
      "Dimensión de la base: (13009, 165) \n",
      "\n"
     ]
    }
   ],
   "source": [
    "#Missing values\n",
    "#Aca nos fijamos cuantos valores hay con no NaN\n",
    "print(EPH_completo_H.info())\n",
    "print('Dimensión de la base:', EPH_completo.shape, '\\n')\n"
   ]
  },
  {
   "cell_type": "code",
   "execution_count": 188,
   "metadata": {},
   "outputs": [
    {
     "name": "stdout",
     "output_type": "stream",
     "text": [
      "Columna con NaN: iv1_esp 5634\n",
      "Columna con NaN: iv3_esp 5641\n",
      "Columna con NaN: iv7_esp 5618\n",
      "Columna con NaN: ii7_esp 5627\n",
      "Columna con NaN: ii8_esp 5479\n",
      "Columna con NaN: ix_men10 3976\n",
      "Columna con NaN: idecifr 5643\n",
      "Columna con NaN: pdecifr 5643\n",
      "Columna con NaN: ideccfr 5643\n",
      "Columna con NaN: pdeccfr 5643\n",
      "Columna con NaN: idimph 5643\n",
      "Columna con NaN: pondih 7366\n"
     ]
    }
   ],
   "source": [
    "#NaN \n",
    "#Vemos los NaN en cada columna\n",
    "for i in EPH_completo.columns:\n",
    "    if EPH_completo[i].isna().sum()>0:\n",
    "        print(\"Columna con NaN:\", i, EPH_completo[i].isna().sum())\n",
    "        "
   ]
  },
  {
   "cell_type": "code",
   "execution_count": 189,
   "metadata": {},
   "outputs": [
    {
     "data": {
      "text/plain": [
       "iv1_esp\n",
       "                                                 7350\n",
       "casilla                                             8\n",
       "VIV EN VILLA                                        7\n",
       "VILLA                                               6\n",
       "VIVIENDA EN LUGAR DE TRABAJO                        2\n",
       "VIVIENDA EN UN DEPOSITO                             1\n",
       "Casillo                                             1\n",
       "Name: count, dtype: int64"
      ]
     },
     "execution_count": 189,
     "metadata": {},
     "output_type": "execute_result"
    }
   ],
   "source": [
    "EPH_completo[\"iv1_esp\"].value_counts()\n",
    "#Esta columna tiene 7350 valores NaN y 25 completados. No vale la pena agrupar, ni mantener la columna.   \n",
    "#print()"
   ]
  },
  {
   "cell_type": "code",
   "execution_count": 190,
   "metadata": {},
   "outputs": [
    {
     "data": {
      "text/plain": [
       "iv3_esp\n",
       "                                                 7361\n",
       "FKEXIPLAS                                           5\n",
       "NADA                                                1\n",
       "parket                                              1\n",
       "Name: count, dtype: int64"
      ]
     },
     "execution_count": 190,
     "metadata": {},
     "output_type": "execute_result"
    }
   ],
   "source": [
    "EPH_completo[\"iv3_esp\"].value_counts()"
   ]
  },
  {
   "cell_type": "code",
   "execution_count": 191,
   "metadata": {},
   "outputs": [
    {
     "data": {
      "text/plain": [
       "iv7_esp\n",
       "                                                 7347\n",
       "VECINO                                              7\n",
       "carga los tachos                                    7\n",
       " LE DA UN VECINO                                    5\n",
       "Camion de Agua                                      5\n",
       "TANQUE COMUNITARIO                                  5\n",
       "SE LO DA VECINO DE UNA BOMBA                        4\n",
       "no tiene                                            4\n",
       "no especifica                                       4\n",
       "COMPRESOR                                           3\n",
       "Name: count, dtype: int64"
      ]
     },
     "execution_count": 191,
     "metadata": {},
     "output_type": "execute_result"
    }
   ],
   "source": [
    "EPH_completo[\"iv7_esp\"].value_counts()"
   ]
  },
  {
   "cell_type": "code",
   "execution_count": 192,
   "metadata": {},
   "outputs": [
    {
     "data": {
      "text/plain": [
       "ii7_esp\n",
       "                                                 7345\n",
       "PRENDADO PAGAN CUOTAS                               5\n",
       "PERTENECE ASUS PADRES QUE VIVEN EN PB.              5\n",
       "EN SUCESION                                         4\n",
       "bien de familia                                     4\n",
       "EN COMODATO                                         3\n",
       "casa tomada                                         3\n",
       "es del papa de los hijos                            3\n",
       "FAMILIAR DE SUS ABUELOS                             2\n",
       "la vivienda esta a nombre de sus hijos y usuf       2\n",
       "CEDIDO A SUS HIJAS CON CLAUSULA DE USO HASTA        1\n",
       "ES DUEñA DE LA MITAD                                1\n",
       "LA EMP LE PAGA EL ALQUILER Y TODOS LOS GASTOS       1\n",
       "HERENCIA                                            1\n",
       "no dice                                             1\n",
       "no responde                                         1\n",
       "Name: count, dtype: int64"
      ]
     },
     "execution_count": 192,
     "metadata": {},
     "output_type": "execute_result"
    }
   ],
   "source": [
    "EPH_completo[\"ii7_esp\"].value_counts() ##ii7 es suficiente, explica mas "
   ]
  },
  {
   "cell_type": "code",
   "execution_count": 193,
   "metadata": {},
   "outputs": [
    {
     "data": {
      "text/plain": [
       "ii8_esp\n",
       "                                                 7348\n",
       "electricidad                                      101\n",
       "electrico                                          15\n",
       "NO TIENEN USAN EL DEL VECINO                       10\n",
       "ELECTRICIDAD                                       10\n",
       "ELECTRICO                                           7\n",
       "Electricidad                                        6\n",
       "Electrico                                           5\n",
       "electrica                                           5\n",
       "ELECTRICIDAD                                        3\n",
       "cocina electrica                                    3\n",
       "cocina en otra vivienda                             2\n",
       "Cocina electrica                                    2\n",
       "ELECTRICA                                           2\n",
       "Electrica                                           2\n",
       "COMPRA COMIDA HECHA                                 2\n",
       "NADA,COME ABAJO                                     1\n",
       "no dice                                             1\n",
       "NO TIENE COCINA                                     1\n",
       "electricista                                        1\n",
       "no tiene cocina solo dormitorio                     1\n",
       "ELECTRICA                                           1\n",
       "ELECTRICIDAS                                        1\n",
       "Name: count, dtype: int64"
      ]
     },
     "execution_count": 193,
     "metadata": {},
     "output_type": "execute_result"
    }
   ],
   "source": [
    "EPH_completo[\"ii8_esp\"].value_counts() #capaz conviene juntar electricidad"
   ]
  },
  {
   "cell_type": "code",
   "execution_count": 194,
   "metadata": {},
   "outputs": [],
   "source": [
    "EPH_completo[\"ix_men10\"].value_counts() #es numerica\n",
    "#Para ver de donde vienen los NaN\n",
    "EPH_completo[EPH_completo[\"ano4_H\"]==2004][\"ix_men10\"].value_counts()\n",
    "\n",
    "#Se puede asumir que los NaN son 0 en 2004 porque no hay en la columna (no le podemos preguntar a la persona). Es poco probable\n",
    "## que haya personas sin hijos en la muestra\n",
    "\n",
    "EPH_completo[\"ix_men10\"]=EPH_completo[\"ix_men10\"].fillna(0) #llenamos de ceros a los NaN"
   ]
  },
  {
   "cell_type": "code",
   "execution_count": 195,
   "metadata": {},
   "outputs": [
    {
     "name": "stdout",
     "output_type": "stream",
     "text": [
      "idecifr\n",
      "    7366\n",
      "Name: count, dtype: int64\n",
      "pdecifr\n",
      "    7366\n",
      "Name: count, dtype: int64\n",
      "ideccfr\n",
      "    7366\n",
      "Name: count, dtype: int64\n",
      "pdeccfr\n",
      "    7366\n",
      "Name: count, dtype: int64\n",
      "idimph\n",
      "00000    5702\n",
      "10000    1016\n",
      "00010     226\n",
      "00100     115\n",
      "11000      94\n",
      "10010      74\n",
      "10100      64\n",
      "01000      37\n",
      "11100      16\n",
      "10110       6\n",
      "11010       6\n",
      "00110       4\n",
      "01100       3\n",
      "01010       3\n",
      "Name: count, dtype: int64\n",
      "pondih\n",
      "0.0        1638\n",
      "8403.0       14\n",
      "1861.0       13\n",
      "2358.0       12\n",
      "21006.0      11\n",
      "           ... \n",
      "1045.0        1\n",
      "1602.0        1\n",
      "1685.0        1\n",
      "1626.0        1\n",
      "1781.0        1\n",
      "Name: count, Length: 1416, dtype: int64\n"
     ]
    }
   ],
   "source": [
    "print(EPH_completo[\"idecifr\"].value_counts()) #no la usamos\n",
    "print(EPH_completo[\"pdecifr\"].value_counts()) #los aglomerados que usamos son >500.000, no se usa, la volamos\n",
    "print(EPH_completo[\"ideccfr\"].value_counts()) #no se usa\n",
    "print(EPH_completo[\"pdeccfr\"].value_counts()) #no se usa\n",
    "print(EPH_completo[\"idimph\"].value_counts()) #los NaN estan porque en 2024 no se pregunta. No lo usamos, bye\n",
    "print(EPH_completo[\"pondih\"].value_counts()) #no esta en 2004, pero si en 2024. No lo usamos"
   ]
  },
  {
   "cell_type": "code",
   "execution_count": 196,
   "metadata": {
    "scrolled": true
   },
   "outputs": [
    {
     "name": "stdout",
     "output_type": "stream",
     "text": [
      "             count           mean            std     min     25%     50%       75%          max\n",
      "nro_hogar   4896.0       1.042279       1.021550     1.0     1.0     1.0       1.0        51.00\n",
      "ano4        4896.0    2014.396242       9.993167  2004.0  2004.0  2024.0    2024.0      2024.00\n",
      "pondera     4896.0    1878.282680     858.623786    42.0  1428.0  1673.0    2145.0      8685.00\n",
      "ii3_1       4896.0       0.073529       0.273266     0.0     0.0     0.0       0.0         3.00\n",
      "ii5_1       4896.0       0.007149       0.099795     0.0     0.0     0.0       0.0         2.00\n",
      "ii6_1       4896.0       0.009804       0.108410     0.0     0.0     0.0       0.0         3.00\n",
      "ix_tot      4896.0       3.002042       1.750294     1.0     2.0     3.0       4.0        15.00\n",
      "ix_men10    3320.0       0.615361       0.886071     0.0     0.0     0.0       1.0         7.00\n",
      "ix_mayeq10  4896.0       2.584763       1.391703     1.0     2.0     2.0       3.0        14.00\n",
      "itf         4896.0  231093.796569  775278.725368     0.0   274.5  1100.0  262000.0  33937000.00\n",
      "ipcf        4896.0  109402.992501  320877.878407     0.0    87.5   405.0  125000.0  11312333.33\n",
      "pondih      2545.0    2111.575639    2291.874574     0.0     0.0  1787.0    3430.0     21006.00\n"
     ]
    }
   ],
   "source": [
    "#Outliers #Quiero ver las variables numericas, por eso uso EPH_completo_H\n",
    "dt = EPH_completo_H.describe().T\n",
    "print(dt.to_string())"
   ]
  },
  {
   "cell_type": "code",
   "execution_count": 197,
   "metadata": {},
   "outputs": [],
   "source": [
    "\n",
    "\n",
    "#nro_hogar,año y pondera estan ok, no nos importan para el modelo\n",
    "#ii3_1 no nos importa para el modelo, es condicional\n",
    "#ii5_1 no nos importa para el modelo, es condicional\n",
    "#ii6_1 solo esta en 2004 (VEEER)\n",
    "#ix_tot ver que el maximo es 15 y en el cuartil 0.75 el valor es 4 (ver si se saca o no y si se usa)\n",
    "#ix_men10 capaz. Ver, no parece afectar tanto el max\n",
    "# ix_mayeq10 capaz.Ver porque el max 14.\n",
    "# itf ver de sacar el maximo porque es muy alto y tira el promedio para arriba\n",
    "# ipcf idem arriba. USAMOS ESTE      \n",
    "# pondih no importa, no lo usamos"
   ]
  },
  {
   "cell_type": "code",
   "execution_count": 198,
   "metadata": {},
   "outputs": [
    {
     "data": {
      "text/plain": [
       "<Axes: xlabel='ch06'>"
      ]
     },
     "execution_count": 198,
     "metadata": {},
     "output_type": "execute_result"
    },
    {
     "data": {
      "image/png": "[encoded data removed]",
      "text/plain": [
       "<Figure size 640x480 with 1 Axes>"
      ]
     },
     "metadata": {},
     "output_type": "display_data"
    }
   ],
   "source": [
    "#Busquemos outliers en las variables que usamos anteriormente\n",
    "#CH06\n",
    "sns.boxplot(x=EPH_completo[\"ch06\"]) \n",
    "#Esta ok, no hay outliers\n"
   ]
  },
  {
   "cell_type": "code",
   "execution_count": 203,
   "metadata": {},
   "outputs": [
    {
     "data": {
      "text/plain": [
       "<Axes: xlabel='ch09'>"
      ]
     },
     "execution_count": 203,
     "metadata": {},
     "output_type": "execute_result"
    },
    {
     "data": {
      "image/png": "[encoded data removed]",
      "text/plain": [
       "<Figure size 640x480 with 1 Axes>"
      ]
     },
     "metadata": {},
     "output_type": "display_data"
    }
   ],
   "source": [
    "#CH06\n",
    "sns.boxplot(x=EPH_completo[\"ch09\"]) \n",
    "#ver hacer variable binaria"
   ]
  },
  {
   "cell_type": "code",
   "execution_count": 207,
   "metadata": {},
   "outputs": [
    {
     "data": {
      "text/plain": [
       "<Axes: xlabel='ch15'>"
      ]
     },
     "execution_count": 207,
     "metadata": {},
     "output_type": "execute_result"
    },
    {
     "data": {
      "image/png": "[encoded data removed]",
      "text/plain": [
       "<Figure size 640x480 with 1 Axes>"
      ]
     },
     "metadata": {},
     "output_type": "display_data"
    }
   ],
   "source": [
    "sns.boxplot(x=EPH_completo[\"ch15\"]) \n",
    "#"
   ]
  },
  {
   "cell_type": "code",
   "execution_count": 219,
   "metadata": {},
   "outputs": [
    {
     "data": {
      "text/plain": [
       "<Axes: xlabel='ipcf_I'>"
      ]
     },
     "execution_count": 219,
     "metadata": {},
     "output_type": "execute_result"
    },
    {
     "data": {
      "image/png": "[encoded data removed]",
      "text/plain": [
       "<Figure size 640x480 with 1 Axes>"
      ]
     },
     "metadata": {},
     "output_type": "display_data"
    }
   ],
   "source": [
    "sns.boxplot(x=EPH_completo[\"ipcf_I\"]) \n",
    "#Outilier feo feo\n",
    "#Elinamos"
   ]
  },
  {
   "cell_type": "code",
   "execution_count": 231,
   "metadata": {},
   "outputs": [
    {
     "name": "stdout",
     "output_type": "stream",
     "text": [
      "1688\n"
     ]
    },
    {
     "data": {
      "image/png": "[encoded data removed]",
      "text/plain": [
       "<Figure size 640x480 with 1 Axes>"
      ]
     },
     "metadata": {},
     "output_type": "display_data"
    }
   ],
   "source": [
    "\n",
    "mediana=EPH_completo[\"ipcf_I\"].median()\n",
    "\n",
    "EPH_completo[\"median\"]=mediana\n",
    "\n",
    "#Calculo el MAD\n",
    "EPH_completo[\"Distancia Mediana\"] = np.abs(EPH_completo[\"ipcf_I\"] - EPH_completo[\"median\"] ) #Calculo la distancia absoluta a la mediana según el subgrupo\n",
    "mediana=EPH_completo[\"Distancia Mediana\"].median()\n",
    "\n",
    "EPH_completo[\"MAD\"]=mediana\n",
    "\n",
    "EPH_completo_limpio = EPH_completo[EPH_completo[\"ipcf_I\"] <= EPH_completo[\"median\"] + EPH_completo[\"MAD\"] * 3]\n",
    "\n",
    "\n",
    "EPH_completo_limpio= EPH_completo_limpio[EPH_completo_limpio[\"ipcf_I\"] >= EPH_completo_limpio[\"median\"] - EPH_completo_limpio[\"MAD\"] * 3]\n",
    "\n",
    "sns.boxplot(x=EPH_completo_limpio[\"ipcf_I\"]) \n",
    "\n",
    "print(len(EPH_completo) - len(EPH_completo_limpio))"
   ]
  },
  {
   "cell_type": "code",
   "execution_count": 222,
   "metadata": {},
   "outputs": [],
   "source": [
    "#Seleccion de variables HOGAR para ver cual usamos \n",
    "\n",
    "#Caracteristicas de la vivienda\n",
    "#IV1 (tipo de vivienda por observacion entrevistador),\n",
    "#IV2(# de ambientes), \n",
    "#IV3 (piso),  \n",
    "#IV4 (TECHO), \n",
    "#IV6 (acceso a agua), \n",
    "#IV8 (baño, letrina), \n",
    "#IV11 (si tiene cloacas), \n",
    "#iv12_1 (cerca de basurales), \n",
    "#iv12_2 (zona inundable), \n",
    "#iv12_3 (villa de emergencia)\n",
    "\n",
    "#Caracteristicas del hogar\n",
    "#ii1 (preguntar, ambientes exclusivos para vivienda)\n",
    "#ii2 (ambientes para dormir)\n",
    "#ii4_1 (si tiene cocina)\n",
    "#ii7 (regimen de tenencia)\n",
    "#ii8 (combustible utilizado para cocinar) --> meter un valor y unificar electricidad\n",
    "#ii9 (baño tenencia) veer si la dejamos\n",
    "\n",
    "#Estrategias del hogar (chusmear despues por # de personas que viven en la casa y rango etario)\n",
    "#v1 (vivir con ingresos del trabajo)\n",
    "#v2 (ingresos jubilacion)\n",
    "#v3 (indemnizacion por despido)\n",
    "#v5 (subsidio social) \n",
    "#v7 (que te den mercaderia personas fuera del hogar) ver\n",
    "#v12 (idem arriba pero con plata)\n",
    "#v13 (de lo que tenia ahorrado)\n",
    "#v14 (prestamos a familiares y amigos)\n",
    "#v15 (prestamos con bancos)\n",
    "#v16 (compras en cuotas)\n",
    "#v17 (vender pertenencias)\n",
    "\n",
    "#Resumen del hogar\n",
    "#IX_tot (# de miembros del hogar)\n",
    "#IX_men10 (idem <10)\n",
    "#IX_mayeq10 (idem >10)\n",
    "#IPCF (monto de ingreso per capita familiar)\n",
    "#VII1_1 (si tiene empleada dosmetica)\n"
   ]
  },
  {
   "cell_type": "code",
   "execution_count": 233,
   "metadata": {},
   "outputs": [
    {
     "name": "stdout",
     "output_type": "stream",
     "text": [
      "785\n"
     ]
    },
    {
     "data": {
      "image/png": "[encoded data removed]",
      "text/plain": [
       "<Figure size 640x480 with 1 Axes>"
      ]
     },
     "metadata": {},
     "output_type": "display_data"
    }
   ],
   "source": [
    "#sns.boxplot(x=EPH_completo[\"ix_tot\"]) \n",
    "mediana=EPH_completo[\"ix_tot\"].median()\n",
    "\n",
    "EPH_completo[\"median\"]=mediana\n",
    "\n",
    "#Calculo el MAD\n",
    "EPH_completo[\"Distancia Mediana\"] = np.abs(EPH_completo[\"ix_tot\"] - EPH_completo[\"median\"] ) #Calculo la distancia absoluta a la mediana según el subgrupo\n",
    "mediana=EPH_completo[\"Distancia Mediana\"].median()\n",
    "\n",
    "EPH_completo[\"MAD\"]=mediana\n",
    "\n",
    "EPH_completo_limpio = EPH_completo[EPH_completo[\"ix_tot\"] <= EPH_completo[\"median\"] + EPH_completo[\"MAD\"] * 3]\n",
    "\n",
    "\n",
    "EPH_completo_limpio= EPH_completo_limpio[EPH_completo_limpio[\"ix_tot\"] >= EPH_completo_limpio[\"median\"] - EPH_completo_limpio[\"MAD\"] * 3]\n",
    "\n",
    "sns.boxplot(x=EPH_completo_limpio[\"ix_tot\"]) \n",
    "\n",
    "print(len(EPH_completo) - len(EPH_completo_limpio))"
   ]
  },
  {
   "cell_type": "code",
   "execution_count": 239,
   "metadata": {},
   "outputs": [
    {
     "data": {
      "text/plain": [
       "<Axes: xlabel='ix_mayeq10'>"
      ]
     },
     "execution_count": 239,
     "metadata": {},
     "output_type": "execute_result"
    },
    {
     "data": {
      "image/png": "[encoded data removed]",
      "text/plain": [
       "<Figure size 640x480 with 1 Axes>"
      ]
     },
     "metadata": {},
     "output_type": "display_data"
    }
   ],
   "source": [
    "sns.boxplot(x=EPH_completo_limpio[\"ix_mayeq10\"]) "
   ]
  },
  {
   "cell_type": "code",
   "execution_count": null,
   "metadata": {},
   "outputs": [],
   "source": [
    "sns.boxplot(x=EPH_completo_limpio[\"ix_men10\"]) "
   ]
  },
  {
   "cell_type": "code",
   "execution_count": null,
   "metadata": {},
   "outputs": [],
   "source": [
    "#Variables categoricas\n",
    "# Notamos que origin es una variable categórica (toma valores 1, 2, 3)\n",
    "\n",
    "# Usaremos one-hot encoding para transformar la columna categórica llamada origin \n",
    "# en varias columnas binarias (dummies).\n",
    "# Cómo? get_dummies \n",
    "origin_dummies = pd.get_dummies(auto['origin'], prefix='origin')\n",
    "\n",
    "# Concatenamos con el df original\n",
    "auto_d = pd.concat([auto, origin_dummies], axis=1)\n",
    "auto_d.head()\n",
    "#cuando tenemos una categorica en r no tenes que decir nada (ajusta n-1 parametros --> genera 3 columnas con dummies (001))"
   ]
  },
  {
   "cell_type": "markdown",
   "metadata": {},
   "source": [
    "#### 4-Construya variables (mínimo 3) que no estén en la base pero que sean relevantes para predecir individuos desocupados (por ejemplo, la proporción de personas que trabajan en el hogar)."
   ]
  },
  {
   "cell_type": "code",
   "execution_count": null,
   "metadata": {},
   "outputs": [],
   "source": [
    "# de personas / # de habitaciones\n",
    "#proporcion de personas que trabajan en el hogar\n",
    "#"
   ]
  },
  {
   "cell_type": "markdown",
   "metadata": {},
   "source": [
    "#### 5-Presenten estadísticas descriptivas de tres variables de la encuesta de hogar que ustedes creen que pueden ser relevantes para predecir la desocupación. Comenten las estadísticas obtenidas."
   ]
  },
  {
   "cell_type": "markdown",
   "metadata": {},
   "source": [
    "### Parte II: Clasificación y regularización"
   ]
  }
 ],
 "metadata": {
  "kernelspec": {
   "display_name": "Python 3 (ipykernel)",
   "language": "python",
   "name": "python3"
  },
  "language_info": {
   "codemirror_mode": {
    "name": "ipython",
    "version": 3
   },
   "file_extension": ".py",
   "mimetype": "text/x-python",
   "name": "python",
   "nbconvert_exporter": "python",
   "pygments_lexer": "ipython3",
   "version": "3.12.4"
  }
 },
 "nbformat": 4,
 "nbformat_minor": 4
}
