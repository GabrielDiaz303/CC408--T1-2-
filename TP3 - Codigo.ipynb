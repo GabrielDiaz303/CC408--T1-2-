{
 "cells": [
  {
   "cell_type": "markdown",
   "metadata": {},
   "source": [
    "Parte I: Analizando la Base"
   ]
  },
  {
   "cell_type": "markdown",
   "metadata": {},
   "source": []
  },
  {
   "cell_type": "code",
   "execution_count": 2,
   "metadata": {},
   "outputs": [],
   "source": [
    "import pandas as pd\n",
    "import numpy as np\n",
    "import matplotlib.pyplot as plt\n",
    "import seaborn as sns"
   ]
  },
  {
   "cell_type": "code",
   "execution_count": 21,
   "metadata": {},
   "outputs": [],
   "source": [
    "EPH2024 = pd.read_excel('usu_individual_T124.xlsx')\n",
    "EPH2004 = pd.read_stata(\"Individual_t204.dta\")"
   ]
  },
  {
   "cell_type": "code",
   "execution_count": 26,
   "metadata": {},
   "outputs": [
    {
     "name": "stdout",
     "output_type": "stream",
     "text": [
      "        CODUSU  nro_hogar componente  h15    ano4       trimestre  \\\n",
      "0     125111          1.0        1.0   Sí  2004.0  2do. Trimestre   \n",
      "1     125111          1.0        2.0   Sí  2004.0  2do. Trimestre   \n",
      "2     125458          1.0        1.0   Sí  2004.0  2do. Trimestre   \n",
      "3     125458          1.0        2.0   Sí  2004.0  2do. Trimestre   \n",
      "4     125458          1.0        3.0  0.0  2004.0  2do. Trimestre   \n",
      "...        ...        ...        ...  ...     ...             ...   \n",
      "9626  288405          1.0        2.0   Sí  2004.0  2do. Trimestre   \n",
      "9627  288405          1.0        3.0   Sí  2004.0  2do. Trimestre   \n",
      "9628  288405          1.0        4.0   Sí  2004.0  2do. Trimestre   \n",
      "9629  288425          1.0        1.0   Sí  2004.0  2do. Trimestre   \n",
      "9630  288425          1.0        2.0   Sí  2004.0  2do. Trimestre   \n",
      "\n",
      "                 region mas_500              aglomerado  pondera  ... deccfr  \\\n",
      "0     Gran Buenos Aires       S  Ciudad de Buenos Aires   1407.0  ...     08   \n",
      "1     Gran Buenos Aires       S  Ciudad de Buenos Aires   1407.0  ...     08   \n",
      "2     Gran Buenos Aires       S  Ciudad de Buenos Aires   1162.0  ...     08   \n",
      "3     Gran Buenos Aires       S  Ciudad de Buenos Aires   1162.0  ...     08   \n",
      "4     Gran Buenos Aires       S  Ciudad de Buenos Aires   1162.0  ...     08   \n",
      "...                 ...     ...                     ...      ...  ...    ...   \n",
      "9626  Gran Buenos Aires       S        Partidos del GBA   1196.0  ...     06   \n",
      "9627  Gran Buenos Aires       S        Partidos del GBA   1196.0  ...     06   \n",
      "9628  Gran Buenos Aires       S        Partidos del GBA   1196.0  ...     06   \n",
      "9629  Gran Buenos Aires       S        Partidos del GBA   1290.0  ...     10   \n",
      "9630  Gran Buenos Aires       S        Partidos del GBA   1290.0  ...     10   \n",
      "\n",
      "     ideccfr rdeccfr gdeccfr pdeccfr adeccfr pj1_1 pj2_1 pj3_1 idimpp  \n",
      "0                 08      08              05   0.0   0.0   0.0  00000  \n",
      "1                 08      08              05   0.0   0.0   0.0  00000  \n",
      "2                 08      08              06   0.0   0.0   0.0  00000  \n",
      "3                 08      08              06   0.0   0.0   0.0  00000  \n",
      "4                 08      08              06   0.0   0.0   0.0  00000  \n",
      "...      ...     ...     ...     ...     ...   ...   ...   ...    ...  \n",
      "9626              06      06              07   0.0   0.0   0.0  00000  \n",
      "9627              06      06              07   0.0   0.0   0.0  00000  \n",
      "9628              06      06              07   0.0   0.0   0.0  00000  \n",
      "9629              10      10              10   0.0   0.0   0.0  00020  \n",
      "9630              10      10              10   0.0   0.0   0.0  00000  \n",
      "\n",
      "[9631 rows x 176 columns]\n"
     ]
    }
   ],
   "source": [
    "EPH2024BS=EPH2024[(EPH2024[\"AGLOMERADO\"] == 32) | (EPH2024[\"AGLOMERADO\"] == 33)]\n",
    "EPH2004BS=EPH2004[(EPH2004[\"aglomerado\"] == \"Ciudad de Buenos Aires\") | (EPH2004[\"aglomerado\"] == \"Partidos del GBA\")]\n",
    "\n",
    "print(EPH2004BS)\n",
    "#EPH_completo= pd.concat([EPH2004BS, EPH2024BS], ignore_index=True)\n",
    "#print(EPH2004BS)"
   ]
  },
  {
   "cell_type": "code",
   "execution_count": 17,
   "metadata": {},
   "outputs": [
    {
     "name": "stdout",
     "output_type": "stream",
     "text": [
      "                             CODUSU  nro_hogar componente  h15  ano4  \\\n",
      "0     TQRMNOSUWHLKMUCDEIJAH00855260        NaN        NaN  NaN   NaN   \n",
      "1     TQRMNOSUWHLKMUCDEIJAH00855260        NaN        NaN  NaN   NaN   \n",
      "2     TQRMNOSUWHLKMUCDEIJAH00855260        NaN        NaN  NaN   NaN   \n",
      "3     TQSMNORWVHLLKQCDEIJAH00856914        NaN        NaN  NaN   NaN   \n",
      "4     TQRMNOPQQHLOLRCDEIJAH00855133        NaN        NaN  NaN   NaN   \n",
      "...                             ...        ...        ...  ...   ...   \n",
      "7046  TQRMNOPUQHKMKNCDEIJAH00861661        NaN        NaN  NaN   NaN   \n",
      "7047  TQRMNOPUQHKMKNCDEIJAH00861661        NaN        NaN  NaN   NaN   \n",
      "7048  TQRMNOPUQHKMKNCDEIJAH00861661        NaN        NaN  NaN   NaN   \n",
      "7049  TQRMNOPUQHKMKNCDEIJAH00861661        NaN        NaN  NaN   NaN   \n",
      "7050  TQRMNOPUQHKMKNCDEIJAH00861661        NaN        NaN  NaN   NaN   \n",
      "\n",
      "     trimestre region mas_500 aglomerado  pondera  ... PDECIFR ADECIFR  \\\n",
      "0          NaN    NaN     NaN        NaN      NaN  ...     NaN    12.0   \n",
      "1          NaN    NaN     NaN        NaN      NaN  ...     NaN    12.0   \n",
      "2          NaN    NaN     NaN        NaN      NaN  ...     NaN    12.0   \n",
      "3          NaN    NaN     NaN        NaN      NaN  ...     NaN     6.0   \n",
      "4          NaN    NaN     NaN        NaN      NaN  ...     NaN    12.0   \n",
      "...        ...    ...     ...        ...      ...  ...     ...     ...   \n",
      "7046       NaN    NaN     NaN        NaN      NaN  ...     NaN    12.0   \n",
      "7047       NaN    NaN     NaN        NaN      NaN  ...     NaN    12.0   \n",
      "7048       NaN    NaN     NaN        NaN      NaN  ...     NaN    12.0   \n",
      "7049       NaN    NaN     NaN        NaN      NaN  ...     NaN    12.0   \n",
      "7050       NaN    NaN     NaN        NaN      NaN  ...     NaN    12.0   \n",
      "\n",
      "          IPCF DECCFR IDECCFR RDECCFR GDECCFR PDECCFR ADECCFR  PONDIH  \n",
      "0          0.0   12.0     NaN    12.0    12.0     NaN    12.0     0.0  \n",
      "1          0.0   12.0     NaN    12.0    12.0     NaN    12.0     0.0  \n",
      "2          0.0   12.0     NaN    12.0    12.0     NaN    12.0     0.0  \n",
      "3     500000.0    9.0     NaN     9.0     9.0     NaN     9.0  3324.0  \n",
      "4          0.0   12.0     NaN    12.0    12.0     NaN    12.0     0.0  \n",
      "...        ...    ...     ...     ...     ...     ...     ...     ...  \n",
      "7046       0.0   12.0     NaN    12.0    12.0     NaN    12.0     0.0  \n",
      "7047       0.0   12.0     NaN    12.0    12.0     NaN    12.0     0.0  \n",
      "7048       0.0   12.0     NaN    12.0    12.0     NaN    12.0     0.0  \n",
      "7049       0.0   12.0     NaN    12.0    12.0     NaN    12.0     0.0  \n",
      "7050       0.0   12.0     NaN    12.0    12.0     NaN    12.0     0.0  \n",
      "\n",
      "[7051 rows x 352 columns]\n"
     ]
    }
   ],
   "source": [
    "print(EPH_completo)"
   ]
  }
 ],
 "metadata": {
  "kernelspec": {
   "display_name": "CienciaDatos",
   "language": "python",
   "name": "python3"
  },
  "language_info": {
   "codemirror_mode": {
    "name": "ipython",
    "version": 3
   },
   "file_extension": ".py",
   "mimetype": "text/x-python",
   "name": "python",
   "nbconvert_exporter": "python",
   "pygments_lexer": "ipython3",
   "version": "3.12.7"
  }
 },
 "nbformat": 4,
 "nbformat_minor": 2
}
